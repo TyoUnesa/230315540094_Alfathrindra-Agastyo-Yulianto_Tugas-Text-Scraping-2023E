{
 "cells": [
  {
   "cell_type": "code",
   "execution_count": 1,
   "metadata": {},
   "outputs": [],
   "source": [
    "import requests # type: ignore\n",
    "from bs4 import BeautifulSoup # type: ignore\n",
    "import pandas as pd # type: ignore"
   ]
  },
  {
   "cell_type": "code",
   "execution_count": 2,
   "metadata": {},
   "outputs": [],
   "source": [
    "def scrape_page(page_url):\n",
    "    response = requests.get(page_url)\n",
    "    soup = BeautifulSoup(response.text, 'html.parser')\n",
    "    \n",
    "    articles = []\n",
    "    news_articles = soup.find_all('div', class_='flex-1 h-full sm:mt-1 sm:pb-1.5 flex-shrink flex flex-col justify-between overflow-hidden')\n",
    "    \n",
    "    for article in news_articles:\n",
    "        headline_element = article.find('a', class_='my-1 sm:mb-0 text-sm sm:text-base font-semibold leading-snug sm:leading-5 line-clamp-3 sm:line-clamp-2 text-title')\n",
    "        headline = headline_element.text.strip() if headline_element else 'No Headline'\n",
    "        \n",
    "        author_element = article.find('a', class_='text-xs truncate text-author')\n",
    "        author = author_element.text.strip() if author_element else 'No Author'\n",
    "\n",
    "        date_element = article.find('time', class_='flex-shrink-0 text-xs text-time')\n",
    "        date = date_element.text.strip() if date_element else 'No Date'\n",
    "        \n",
    "        articles.append({\n",
    "            'Headline': headline,\n",
    "            'Author': author,\n",
    "            'Date': date\n",
    "        })\n",
    "    \n",
    "    return articles\n",
    "\n",
    "def scrape_planetf1_articles(base_url, total_pages):\n",
    "    all_articles = []\n",
    "    \n",
    "    for page in range(1, total_pages + 4):\n",
    "        page_url = f\"{base_url}?page={page}\"\n",
    "        articles = scrape_page(page_url)\n",
    "        all_articles.extend(articles)\n",
    "    \n",
    "    return all_articles\n",
    "\n",
    "base_url = 'https://www.planetf1.com/news'\n",
    "total_pages = 2 \n",
    "articles = scrape_planetf1_articles(base_url, total_pages)\n",
    "\n",
    "df = pd.DataFrame({\n",
    "    'Headline': [articles['Headline'] for articles in articles],\n",
    "    'Author': [articles['Author'] for articles in articles], \n",
    "    'Date': [articles['Date'] for articles in articles] \n",
    "})"
   ]
  },
  {
   "cell_type": "code",
   "execution_count": null,
   "metadata": {},
   "outputs": [],
   "source": [
    "df.to_csv('Articles_Output.csv', index=False)\n",
    "\n",
    "print(\"Data is successfully saved to 'Articles_Output.csv'.\")"
   ]
  },
  {
   "cell_type": "code",
   "execution_count": null,
   "metadata": {},
   "outputs": [],
   "source": [
    "Valid_Headlines= len(df[df['Headline'] != 'No Headline'])\n",
    "Valid_Authors = len(df[df['Author'] != 'No Author'])\n",
    "Valid_Dates = len(df[df['Date'] != 'No Date'])\n",
    "\n",
    "print(f\"Total Valid Headlines: {Valid_Headlines}\")\n",
    "print(f\"Total Valid Authors: {Valid_Authors}\")\n",
    "print(f\"Total Valid Dates: {Valid_Dates}\")"
   ]
  },
  {
   "cell_type": "code",
   "execution_count": null,
   "metadata": {},
   "outputs": [],
   "source": [
    "print(df)"
   ]
  }
 ],
 "metadata": {
  "kernelspec": {
   "display_name": "Python 3",
   "language": "python",
   "name": "python3"
  },
  "language_info": {
   "codemirror_mode": {
    "name": "ipython",
    "version": 3
   },
   "file_extension": ".py",
   "mimetype": "text/x-python",
   "name": "python",
   "nbconvert_exporter": "python",
   "pygments_lexer": "ipython3",
   "version": "3.12.5"
  }
 },
 "nbformat": 4,
 "nbformat_minor": 2
}
