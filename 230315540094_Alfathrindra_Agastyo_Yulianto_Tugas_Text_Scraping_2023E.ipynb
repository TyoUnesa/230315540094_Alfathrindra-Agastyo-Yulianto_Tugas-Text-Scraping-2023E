{
  "nbformat": 4,
  "nbformat_minor": 0,
  "metadata": {
    "colab": {
      "provenance": [],
      "authorship_tag": "ABX9TyMWfY4ajud1kBtRoFsnZmE9",
      "include_colab_link": true
    },
    "kernelspec": {
      "name": "python3",
      "display_name": "Python 3"
    },
    "language_info": {
      "name": "python"
    }
  },
  "cells": [
    {
      "cell_type": "markdown",
      "metadata": {
        "id": "view-in-github",
        "colab_type": "text"
      },
      "source": [
        "<a href=\"https://colab.research.google.com/github/TyoUnesa/230315540094_Alfathrindra-Agastyo-Yulianto_Tugas-Text-Scraping-2023E/blob/main/230315540094_Alfathrindra_Agastyo_Yulianto_Tugas_Text_Scraping_2023E.ipynb\" target=\"_parent\"><img src=\"https://colab.research.google.com/assets/colab-badge.svg\" alt=\"Open In Colab\"/></a>"
      ]
    },
    {
      "cell_type": "code",
      "execution_count": null,
      "metadata": {
        "id": "It1X9UORTQjN"
      },
      "outputs": [],
      "source": [
        "import requests # type: ignore\n",
        "from bs4 import BeautifulSoup # type: ignore\n",
        "import pandas as pd # type: ignore"
      ]
    },
    {
      "cell_type": "code",
      "source": [
        "def scrape_page(page_url):\n",
        "    response = requests.get(page_url)\n",
        "    soup = BeautifulSoup(response.text, 'html.parser')\n",
        "\n",
        "    articles = []\n",
        "    news_articles = soup.find_all('div', class_='flex-1 h-full sm:mt-1 sm:pb-1.5 flex-shrink flex flex-col justify-between overflow-hidden')\n",
        "\n",
        "    for article in news_articles:\n",
        "        headline_element = article.find('a', class_='my-1 sm:mb-0 text-sm sm:text-base font-semibold leading-snug sm:leading-5 line-clamp-3 sm:line-clamp-2 text-title')\n",
        "        headline = headline_element.text.strip() if headline_element else 'No Headline'\n",
        "\n",
        "        author_element = article.find('a', class_='text-xs truncate text-author')\n",
        "        author = author_element.text.strip() if author_element else 'No Author'\n",
        "\n",
        "        date_element = article.find('time', class_='flex-shrink-0 text-xs text-time')\n",
        "        date = date_element.text.strip() if date_element else 'No Date'\n",
        "\n",
        "        articles.append({\n",
        "            'Headline': headline,\n",
        "            'Author': author,\n",
        "            'Date': date\n",
        "        })\n",
        "\n",
        "    return articles\n",
        "\n",
        "def scrape_planetf1_articles(base_url, total_pages):\n",
        "    all_articles = []\n",
        "\n",
        "    for page in range(1, total_pages + 4):\n",
        "        page_url = f\"{base_url}?page={page}\"\n",
        "        articles = scrape_page(page_url)\n",
        "        all_articles.extend(articles)\n",
        "\n",
        "    return all_articles\n",
        "\n",
        "base_url = 'https://www.planetf1.com/news'\n",
        "total_pages = 2\n",
        "articles = scrape_planetf1_articles(base_url, total_pages)\n",
        "\n",
        "df = pd.DataFrame({\n",
        "    'Headline': [articles['Headline'] for articles in articles],\n",
        "    'Author': [articles['Author'] for articles in articles],\n",
        "    'Date': [articles['Date'] for articles in articles]\n",
        "})"
      ],
      "metadata": {
        "id": "g5-Xw0u6TUEM"
      },
      "execution_count": null,
      "outputs": []
    },
    {
      "cell_type": "code",
      "source": [
        "df.to_csv('Articles_Output.csv', index=False)\n",
        "\n",
        "print(\"Data is successfully saved to 'Articles_Output.csv'.\")"
      ],
      "metadata": {
        "colab": {
          "base_uri": "https://localhost:8080/"
        },
        "id": "ryutmdJ_TXKy",
        "outputId": "c6ed0ba9-f98f-4d79-8536-15bd75eb00b9"
      },
      "execution_count": null,
      "outputs": [
        {
          "output_type": "stream",
          "name": "stdout",
          "text": [
            "Data is successfully saved to 'Articles_Output.csv'.\n"
          ]
        }
      ]
    },
    {
      "cell_type": "code",
      "source": [
        "Valid_Headlines= len(df[df['Headline'] != 'No Headline'])\n",
        "Valid_Authors = len(df[df['Author'] != 'No Author'])\n",
        "Valid_Dates = len(df[df['Date'] != 'No Date'])\n",
        "\n",
        "print(f\"Total Valid Headlines: {Valid_Headlines}\")\n",
        "print(f\"Total Valid Authors: {Valid_Authors}\")\n",
        "print(f\"Total Valid Dates: {Valid_Dates}\")"
      ],
      "metadata": {
        "colab": {
          "base_uri": "https://localhost:8080/"
        },
        "id": "RiL5xHx6TbZl",
        "outputId": "785ec612-79cf-4382-f154-ccdc9e2f0c6e"
      },
      "execution_count": null,
      "outputs": [
        {
          "output_type": "stream",
          "name": "stdout",
          "text": [
            "Total Valid Headlines: 100\n",
            "Total Valid Authors: 100\n",
            "Total Valid Dates: 100\n"
          ]
        }
      ]
    },
    {
      "cell_type": "code",
      "source": [
        "print(df)"
      ],
      "metadata": {
        "colab": {
          "base_uri": "https://localhost:8080/"
        },
        "id": "O2yWaCNKTdMC",
        "outputId": "e24c0a31-903d-4549-d088-772b3c261684"
      },
      "execution_count": null,
      "outputs": [
        {
          "output_type": "stream",
          "name": "stdout",
          "text": [
            "                                             Headline                Author  \\\n",
            "0   Daniel Ricciardo ‘cocky’ admission as dropped ...       Jamie Woodhouse   \n",
            "1   Follow PlanetF1.com’s WhatsApp and Facebook ch...            Sam Cooper   \n",
            "2   Red Bull driver lineup takes shape after Danie...  Elizabeth Blackstock   \n",
            "3   Gene Haas adds F1 investment to ‘increase the ...  Elizabeth Blackstock   \n",
            "4   Kyle Larson set for McLaren F1 test after ‘bet...  Elizabeth Blackstock   \n",
            "..                                                ...                   ...   \n",
            "95  Mercedes highlight ‘remarkable’ Lewis Hamilton...         Oliver Harden   \n",
            "96  Liam Lawson reveals axed Daniel Ricciardo advi...       Jamie Woodhouse   \n",
            "97  George Russell to Red Bull? Helmut Marko react...         Oliver Harden   \n",
            "98  Max Verstappen protest spreads as fellow World...         Oliver Harden   \n",
            "99  Red Bull driver line-up taking shape with Liam...       Michelle Foster   \n",
            "\n",
            "           Date  \n",
            "0   29 Sep 2024  \n",
            "1   29 Sep 2024  \n",
            "2   28 Sep 2024  \n",
            "3   28 Sep 2024  \n",
            "4   28 Sep 2024  \n",
            "..          ...  \n",
            "95  28 Sep 2024  \n",
            "96  28 Sep 2024  \n",
            "97  28 Sep 2024  \n",
            "98  28 Sep 2024  \n",
            "99  28 Sep 2024  \n",
            "\n",
            "[100 rows x 3 columns]\n"
          ]
        }
      ]
    }
  ]
}